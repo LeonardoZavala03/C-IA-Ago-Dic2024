{
  "nbformat": 4,
  "nbformat_minor": 0,
  "metadata": {
    "colab": {
      "provenance": [],
      "include_colab_link": true
    },
    "kernelspec": {
      "name": "python3",
      "display_name": "Python 3"
    },
    "language_info": {
      "name": "python"
    }
  },
  "cells": [
    {
      "cell_type": "markdown",
      "metadata": {
        "id": "view-in-github",
        "colab_type": "text"
      },
      "source": [
        "<a href=\"https://colab.research.google.com/github/LeonardoZavala03/C-IA-Ago-Dic2024/blob/main/EjercicioPython_1.ipynb\" target=\"_parent\"><img src=\"https://colab.research.google.com/assets/colab-badge.svg\" alt=\"Open In Colab\"/></a>"
      ]
    },
    {
      "cell_type": "code",
      "execution_count": null,
      "metadata": {
        "colab": {
          "base_uri": "https://localhost:8080/"
        },
        "id": "np_vKeXDg5QR",
        "outputId": "4da76aeb-2b39-4a47-d8a6-000426c0d80c"
      },
      "outputs": [
        {
          "output_type": "stream",
          "name": "stdout",
          "text": [
            "Escribe tu nombre: Leo\n",
            "Hola, bienvenido Leo\n"
          ]
        }
      ],
      "source": [
        "name_exclude=[\"Ana\",\"Juan\",\"Pedro\"]   #Problema 1\n",
        "name= input (\"Escribe tu nombre: \")\n",
        "if name in  name_exclude:\n",
        "  print(\"Error,entrada no válida\")\n",
        "else:\n",
        "  print(\"Hola, bienvenido\"+\" \"+name)\n"
      ]
    },
    {
      "cell_type": "code",
      "source": [
        "n=input(\"Defina el numero de elementos de la lista\")  #Problema 2\n",
        "lista = int(n)\n",
        "lista_x=[]\n",
        "for i in range(lista):\n",
        "    lista_x.append(str(input(\"Ingrese los datos: \")))\n",
        "lista_x.reverse()\n",
        "print(lista_x)"
      ],
      "metadata": {
        "colab": {
          "base_uri": "https://localhost:8080/"
        },
        "id": "OCFQ1pKJkMRA",
        "outputId": "8a982018-1a44-46be-e6db-436e9676fe9f"
      },
      "execution_count": null,
      "outputs": [
        {
          "output_type": "stream",
          "name": "stdout",
          "text": [
            "Defina el numero de elementos de la lista3\n",
            "Ingrese los datos: 1\n",
            "Ingrese los datos: 2\n",
            "Ingrese los datos: 3\n",
            "['3', '2', '1']\n"
          ]
        }
      ]
    },
    {
      "cell_type": "code",
      "source": [
        "from typing_extensions import IntVar       #Problema 3\n",
        "def fibonacci():\n",
        "  n= int(input(\"¿cuántas números de la serie quieres generar? \"))\n",
        "  fibonacci= [0,1]\n",
        "\n",
        "  for i in range(2,n):\n",
        "    fibonacci.append(fibonacci[-1] + fibonacci[-2])\n",
        "\n",
        "  print(f\"Los {n} numeros de la serie son:\", fibonacci[:n])\n",
        "\n",
        "fibonacci()"
      ],
      "metadata": {
        "colab": {
          "base_uri": "https://localhost:8080/"
        },
        "id": "F_Irw0f98FG0",
        "outputId": "6e49dbcd-8987-4a10-e8a6-420ddba27449"
      },
      "execution_count": null,
      "outputs": [
        {
          "output_type": "stream",
          "name": "stdout",
          "text": [
            "¿cuántas números de la serie quieres generar? 10\n",
            "Los 10 numeros de la serie son: [0, 1, 1, 2, 3, 5, 8, 13, 21, 34]\n"
          ]
        }
      ]
    },
    {
      "cell_type": "code",
      "source": [
        "import random   #Problema 4\n",
        "def adividar_numero():\n",
        "  numero_secreto = random.randint(1,100)\n",
        "  intento= None\n",
        "  while intento != numero_secreto:\n",
        "    intento= int(input(\"Adivina el número de 1 a 100: \"))\n",
        "    if intento < numero_secreto:\n",
        "      print(\"El número es mayor\")\n",
        "    elif intento > numero_secreto:\n",
        "      print(\"El número es menor\")\n",
        "    if intento == numero_secreto:\n",
        "      print(\"¡Ganaste!\")\n",
        "\n",
        "adividar_numero()"
      ],
      "metadata": {
        "id": "W2gSmU7rHSbA",
        "outputId": "a148bcfb-c765-48ff-97d6-b9866b2a34b1",
        "colab": {
          "base_uri": "https://localhost:8080/"
        }
      },
      "execution_count": null,
      "outputs": [
        {
          "output_type": "stream",
          "name": "stdout",
          "text": [
            "Adivina el número de 1 a 100: 40\n",
            "El número es mayor\n",
            "Adivina el número de 1 a 100: 60\n",
            "El número es menor\n",
            "Adivina el número de 1 a 100: 50\n",
            "El número es mayor\n",
            "Adivina el número de 1 a 100: 55\n",
            "El número es menor\n",
            "Adivina el número de 1 a 100: 54\n",
            "El número es menor\n",
            "Adivina el número de 1 a 100: 53\n",
            "El número es menor\n",
            "Adivina el número de 1 a 100: 52\n",
            "El número es menor\n",
            "Adivina el número de 1 a 100: 51\n",
            "¡Ganaste!\n"
          ]
        }
      ]
    },
    {
      "cell_type": "code",
      "source": [
        "def es_primo(num):  #Problema 5\n",
        "  if num < 2:\n",
        "    return False\n",
        "  for i in range(2, int(num**0.5)+1):\n",
        "    if num % i == 0:\n",
        "      return False\n",
        "  return True\n",
        "\n",
        "def mostrar_primos():\n",
        "   inicio= int(input(\"Ingrese el número de inicio de rango: \"))\n",
        "   fin= int(input(\"Ingrese el número de final de rango: \"))\n",
        "\n",
        "   primos=[]\n",
        "   for num in range(inicio, fin + 1):\n",
        "      if es_primo(num):\n",
        "        primos.append(num)\n",
        "\n",
        "   print(f\"Los números primos entre {inicio} a {fin}: {primos}\")\n",
        "mostrar_primos()"
      ],
      "metadata": {
        "id": "jtG6zB4eJCuz",
        "colab": {
          "base_uri": "https://localhost:8080/"
        },
        "outputId": "7c45883b-e6fa-43d0-f8ed-74aa75cea3cd"
      },
      "execution_count": null,
      "outputs": [
        {
          "output_type": "stream",
          "name": "stdout",
          "text": [
            "Ingrese el número de inicio de rango: 1\n",
            "Ingrese el número de final de rango: 100\n",
            "Los números primos entre 1 a 100: [2, 3, 5, 7, 11, 13, 17, 19, 23, 29, 31, 37, 41, 43, 47, 53, 59, 61, 67, 71, 73, 79, 83, 89, 97]\n"
          ]
        }
      ]
    },
    {
      "cell_type": "code",
      "source": [
        "def suma(a, b):   #Problema 6\n",
        "  return a+b\n",
        "\n",
        "def resta(a, b):\n",
        "  return a-b\n",
        "\n",
        "def multiplicacion(a,b):\n",
        "  return a*b\n",
        "\n",
        "def division(a, b):\n",
        "  if b!= 0:\n",
        "    return a/b\n",
        "  else:\n",
        "    return \"No se puede dividir por cero\"\n",
        "\n",
        "\n",
        "def calculadora():\n",
        "  num1= float(input(\"Ingrese el primer número: \"))\n",
        "  num2= float(input(\"Ingrese el segundo número: \"))\n",
        "\n",
        "  print(f\"Suma: {suma(num1, num2)}\")\n",
        "  print(f\"Resta: {resta(num1, num2)}\")\n",
        "  print(f\"Multiplicación: {multiplicacion(num1, num2)}\")\n",
        "  print(f\"División: {division(num1, num2)}\")\n",
        "\n",
        "calculadora()"
      ],
      "metadata": {
        "id": "JYBhOkuEDOvS",
        "outputId": "141503df-1b8c-4af5-df76-f5670f7c4ea8",
        "colab": {
          "base_uri": "https://localhost:8080/"
        }
      },
      "execution_count": null,
      "outputs": [
        {
          "output_type": "stream",
          "name": "stdout",
          "text": [
            "Ingrese el primer número: 5\n",
            "Ingrese el segundo número: 5\n",
            "Suma: 10.0\n",
            "Resta: 0.0\n",
            "Multiplicación: 25.0\n",
            "División: 1.0\n"
          ]
        }
      ]
    }
  ]
}
